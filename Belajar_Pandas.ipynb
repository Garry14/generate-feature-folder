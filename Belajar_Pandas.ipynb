{
  "nbformat": 4,
  "nbformat_minor": 0,
  "metadata": {
    "colab": {
      "provenance": [],
      "authorship_tag": "ABX9TyPMmaSlhkBhA9avL/eC6pau",
      "include_colab_link": true
    },
    "kernelspec": {
      "name": "python3",
      "display_name": "Python 3"
    },
    "language_info": {
      "name": "python"
    }
  },
  "cells": [
    {
      "cell_type": "markdown",
      "metadata": {
        "id": "view-in-github",
        "colab_type": "text"
      },
      "source": [
        "<a href=\"https://colab.research.google.com/github/Garry14/generate-feature-folder/blob/main/Belajar_Pandas.ipynb\" target=\"_parent\"><img src=\"https://colab.research.google.com/assets/colab-badge.svg\" alt=\"Open In Colab\"/></a>"
      ]
    },
    {
      "cell_type": "code",
      "execution_count": null,
      "metadata": {
        "id": "8lH_LLiK95YA"
      },
      "outputs": [],
      "source": [
        "# Importing necessary libs\n",
        "import pandas as pd\n",
        "import matplotlib.pyplot as plt"
      ]
    },
    {
      "cell_type": "code",
      "source": [
        "# Reading CSV dan Columns\n",
        "order_df = pd.read_csv(\"https://storage.googleapis.com/dqlab-dataset/order.csv\")\n",
        "print(order_df.columns)"
      ],
      "metadata": {
        "colab": {
          "base_uri": "https://localhost:8080/"
        },
        "id": "Juyb0y_VuwEU",
        "outputId": "ede92dbf-414d-4d07-b1f1-e6e5ca103695"
      },
      "execution_count": null,
      "outputs": [
        {
          "output_type": "stream",
          "name": "stdout",
          "text": [
            "Index(['order_id', 'quantity', 'product_id', 'price', 'seller_id',\n",
            "       'freight_value', 'customer_id', 'order_status', 'purchase_date',\n",
            "       'payment_type', 'product_category_name', 'product_weight_gram'],\n",
            "      dtype='object')\n"
          ]
        }
      ]
    },
    {
      "cell_type": "code",
      "source": [
        "# Quick summary  dari segi kuantitas, harga, freight value, dan weight\n",
        "print(order_df.describe())"
      ],
      "metadata": {
        "id": "Xo-gSAL1u_fR"
      },
      "execution_count": null,
      "outputs": []
    },
    {
      "cell_type": "code",
      "source": [
        "# Median dari total pembelian konsumen per transaksi kolom price\n",
        "print(order_df.loc[:, \"price\"].median())"
      ],
      "metadata": {
        "colab": {
          "base_uri": "https://localhost:8080/"
        },
        "id": "x4214YsxrqoH",
        "outputId": "a7a53a28-5e43-4704-c729-2bde1f83cfa7"
      },
      "execution_count": null,
      "outputs": [
        {
          "output_type": "stream",
          "name": "stdout",
          "text": [
            "2610000.0\n"
          ]
        }
      ]
    },
    {
      "cell_type": "code",
      "source": [
        "# Histogram Harga\n",
        "order_df[[\"price\"]].hist(figsize=(4,5), bins=10, xlabelsize=8, ylabelsize=8)\n",
        "plt.show()"
      ],
      "metadata": {
        "colab": {
          "base_uri": "https://localhost:8080/",
          "height": 482
        },
        "id": "rmUbmBbpvCkj",
        "outputId": "923b8cd1-f745-428e-bb42-f1a1065de2ab"
      },
      "execution_count": null,
      "outputs": [
        {
          "output_type": "display_data",
          "data": {
            "text/plain": [
              "<Figure size 400x500 with 1 Axes>"
            ],
            "image/png": "[encoded data removed]"
          },
          "metadata": {}
        }
      ]
    },
    {
      "cell_type": "code",
      "source": [
        "# Standar Deviasi dan Variant\n",
        "product_weight_gram_data = order_df.loc[:,'product_weight_gram']\n",
        "print(f\"Standar Deviasi : {product_weight_gram_data.std()}\")\n",
        "print(f\"Variant : {product_weight_gram_data.var()}\")"
      ],
      "metadata": {
        "colab": {
          "base_uri": "https://localhost:8080/"
        },
        "id": "d2ZQ7BeAD_OJ",
        "outputId": "2033af76-5c8c-4ba1-fa77-afc7d1d64d35"
      },
      "execution_count": null,
      "outputs": [
        {
          "output_type": "stream",
          "name": "stdout",
          "text": [
            "Standar Deviasi : 3929.896875372737\n",
            "Variant : 15444089.451064402\n"
          ]
        }
      ]
    },
    {
      "cell_type": "markdown",
      "source": [
        "Sekarang ceritanya mau mendeteksi Outliers, yaitu data yang aneh sendiri, nilainya jauh sendiri di luar minimum dari quantile 1 dan di luar maksimum dari quantile 3. Abnormal."
      ],
      "metadata": {
        "id": "_qwdHCO2L6gE"
      }
    },
    {
      "cell_type": "code",
      "source": [
        "# Quantiles\n",
        "# Product Weight Gram column in Order Data Frame\n",
        "def score_quantile(value):\n",
        "  return order_df[['product_weight_gram']].quantile(value)\n",
        "\n",
        "pwg_q1 = score_quantile(0.25)\n",
        "pwg_q3 = score_quantile(0.75)\n",
        "pwg_iqr = pwg_q3 - pwg_q1\n",
        "print(f\"Q1 : {pwg_q1}\\nQ3 : {pwg_q3}\\nIQR : {pwg_iqr}\")\n",
        "\n",
        "pwg_lower_bound = pwg_q1 - (1.5 * pwg_iqr)\n",
        "pwg_upper_bound = pwg_q3 + (1.5 * pwg_iqr)\n",
        "outliers = order_df[(order_df[['product_weight_gram']] < pwg_lower_bound) | (order_df[['product_weight_gram']] > pwg_upper_bound)]\n",
        "print(f\"Outliers : {outliers}\")"
      ],
      "metadata": {
        "colab": {
          "base_uri": "https://localhost:8080/"
        },
        "id": "upX9b00GIfSA",
        "outputId": "469a0d41-429d-4642-f935-989e17883058"
      },
      "execution_count": null,
      "outputs": [
        {
          "output_type": "stream",
          "name": "stdout",
          "text": [
            "Q1 : product_weight_gram    300.0\n",
            "Name: 0.25, dtype: float64\n",
            "Q3 : product_weight_gram    1850.0\n",
            "Name: 0.75, dtype: float64\n",
            "IQR : product_weight_gram    1550.0\n",
            "dtype: float64\n",
            "Outliers :       order_id  quantity product_id  price seller_id  freight_value  \\\n",
            "0          NaN       NaN        NaN    NaN       NaN            NaN   \n",
            "1          NaN       NaN        NaN    NaN       NaN            NaN   \n",
            "2          NaN       NaN        NaN    NaN       NaN            NaN   \n",
            "3          NaN       NaN        NaN    NaN       NaN            NaN   \n",
            "4          NaN       NaN        NaN    NaN       NaN            NaN   \n",
            "...        ...       ...        ...    ...       ...            ...   \n",
            "49994      NaN       NaN        NaN    NaN       NaN            NaN   \n",
            "49995      NaN       NaN        NaN    NaN       NaN            NaN   \n",
            "49996      NaN       NaN        NaN    NaN       NaN            NaN   \n",
            "49997      NaN       NaN        NaN    NaN       NaN            NaN   \n",
            "49998      NaN       NaN        NaN    NaN       NaN            NaN   \n",
            "\n",
            "      customer_id order_status purchase_date payment_type  \\\n",
            "0             NaN          NaN           NaN          NaN   \n",
            "1             NaN          NaN           NaN          NaN   \n",
            "2             NaN          NaN           NaN          NaN   \n",
            "3             NaN          NaN           NaN          NaN   \n",
            "4             NaN          NaN           NaN          NaN   \n",
            "...           ...          ...           ...          ...   \n",
            "49994         NaN          NaN           NaN          NaN   \n",
            "49995         NaN          NaN           NaN          NaN   \n",
            "49996         NaN          NaN           NaN          NaN   \n",
            "49997         NaN          NaN           NaN          NaN   \n",
            "49998         NaN          NaN           NaN          NaN   \n",
            "\n",
            "      product_category_name  product_weight_gram  \n",
            "0                       NaN                  NaN  \n",
            "1                       NaN                  NaN  \n",
            "2                       NaN                  NaN  \n",
            "3                       NaN                  NaN  \n",
            "4                       NaN                  NaN  \n",
            "...                     ...                  ...  \n",
            "49994                   NaN                  NaN  \n",
            "49995                   NaN                  NaN  \n",
            "49996                   NaN                  NaN  \n",
            "49997                   NaN                  NaN  \n",
            "49998                   NaN                  NaN  \n",
            "\n",
            "[49999 rows x 12 columns]\n"
          ]
        }
      ]
    },
    {
      "cell_type": "code",
      "source": [
        "# Group By\n",
        "price_mean = order_df[\"price\"].groupby(order_df[\"payment_type\"]).mean()\n",
        "print(price_mean)\n"
      ],
      "metadata": {
        "colab": {
          "base_uri": "https://localhost:8080/"
        },
        "id": "Mmqv5n3WT7XC",
        "outputId": "7be6f6ad-c56a-468a-801f-436a4f5ef928"
      },
      "execution_count": null,
      "outputs": [
        {
          "output_type": "stream",
          "name": "stdout",
          "text": [
            "payment_type\n",
            "credit card        2.600706e+06\n",
            "debit card         2.611974e+06\n",
            "e-wallet           2.598562e+06\n",
            "virtual account    2.619786e+06\n",
            "Name: price, dtype: float64\n"
          ]
        }
      ]
    },
    {
      "cell_type": "code",
      "source": [
        "# Sort\n",
        "# df.sort_values(by=\"column_sort\", ascending=False)\n",
        "order_harga = order_df.sort_values(by=\"price\", ascending=False)\n",
        "print(order_harga)"
      ],
      "metadata": {
        "colab": {
          "base_uri": "https://localhost:8080/"
        },
        "id": "AtR8pGQUUg5t",
        "outputId": "19d181cb-b3c1-453e-b015-8448e6c339f6"
      },
      "execution_count": null,
      "outputs": [
        {
          "output_type": "stream",
          "name": "stdout",
          "text": [
            "                               order_id  quantity  \\\n",
            "22618  a767765cf25c6fcfd8307499da9205d2         1   \n",
            "41958  2711089c7fec59d4dc8483e3c6a12fa3         1   \n",
            "47074  f6134169ca6f0cdfbe6458ebb5731613         1   \n",
            "21072  c8947a583ab9791a5a9d02384cb84302         1   \n",
            "37085  d7b2d3b902441cf3dd12cd125533217d         1   \n",
            "...                                 ...       ...   \n",
            "42166  54220fcc516cabe9ec84b210c0765ef2         1   \n",
            "42452  9960ee97c2f8d801a200a01893b3942f         1   \n",
            "31745  59a19c83ff825948739dd1601cc107b6         1   \n",
            "42025  36cdcd48e9697951eef9c32ef39dc9f3         1   \n",
            "33786  0d9e86e02c1a823b20c03ea29d616607         1   \n",
            "\n",
            "                             product_id    price  \\\n",
            "22618  48698ba0cfe847b41430fa00081b5619  5000000   \n",
            "41958  7c1bd920dbdf22470b68bde975dd3ccf  5000000   \n",
            "47074  2ea92fab7565c4fe9f91a5e4e1756258  5000000   \n",
            "21072  f8cfb63e323be2e1c4172f255d61843d  5000000   \n",
            "37085  35afc973633aaeb6b877ff57b2793310  5000000   \n",
            "...                                 ...      ...   \n",
            "42166  1166bc797ddf5fb009c376d133f61204   200000   \n",
            "42452  db5efde3ad0cc579b130d71c4b2db522   200000   \n",
            "31745  eb38a7604070a2b8465101ed53cba72b   200000   \n",
            "42025  de75785dc5be712c4d4ed4ec5b422ce1   200000   \n",
            "33786  f93213a23c50edc16c27b96333f734dc   200000   \n",
            "\n",
            "                              seller_id  freight_value  \\\n",
            "22618  5962468f885ea01a1b6a97a218797b0a          96000   \n",
            "41958  cc419e0650a3c5ba77189a1882b7556a          31000   \n",
            "47074  3d871de0142ce09b7081e2b9d1733cb1         196000   \n",
            "21072  4a3ca9315b744ce9f8e9374361493884         184000   \n",
            "37085  4a3ca9315b744ce9f8e9374361493884         118000   \n",
            "...                                 ...            ...   \n",
            "42166  5cbbd5a299cab112b7bf23862255e43e         175000   \n",
            "42452  4869f7a5dfa277a7dca6462dcf3b52b2          26000   \n",
            "31745  e6a69c4a27dfdd98ffe5aa757ad744bc         112000   \n",
            "42025  7e93a43ef30c4f03f38b393420bc753a          83000   \n",
            "33786  46dc3b2cc0980fb8ec44634e21d2718e         141000   \n",
            "\n",
            "                            customer_id order_status purchase_date  \\\n",
            "22618  8634716353031b0f8a834143916f9004    delivered    2017-08-06   \n",
            "41958  0ef59d9bb071def3dbf7e7b055965e95    delivered    2017-11-24   \n",
            "47074  cbfdcc896d6ebc83c21fdcf4f4762efc    delivered    2017-12-04   \n",
            "21072  57c047e791e69bef0af220b0a165a22d    delivered    2017-07-27   \n",
            "37085  217344c7c334e16c8e76551b4b240c1d    delivered    2017-10-31   \n",
            "...                                 ...          ...           ...   \n",
            "42166  24e7dc2ff8c07126358af519732b8558    delivered    2017-11-24   \n",
            "42452  54af40597a8931fea3fbb2b37656fc8d    delivered    2017-11-24   \n",
            "31745  2bf857ee40b763708fe19cf877cac511    delivered    2017-10-01   \n",
            "42025  e277b8e4745cacd511e18bd6d7686227    delivered    2017-11-24   \n",
            "33786  edaad9e07395713e9f5a2124f6c846a1    delivered    2017-10-13   \n",
            "\n",
            "          payment_type product_category_name  product_weight_gram  \n",
            "22618       debit card                beauty                200.0  \n",
            "41958         e-wallet               fashion                200.0  \n",
            "47074  virtual account                gadget              10600.0  \n",
            "21072      credit card                beauty                550.0  \n",
            "37085       debit card                beauty               1825.0  \n",
            "...                ...                   ...                  ...  \n",
            "42166         e-wallet                gadget               1100.0  \n",
            "42452      credit card            automotive               6663.0  \n",
            "31745         e-wallet                beauty                550.0  \n",
            "42025  virtual account           electronics                550.0  \n",
            "33786       debit card            automotive               7550.0  \n",
            "\n",
            "[49999 rows x 12 columns]\n"
          ]
        }
      ]
    },
    {
      "cell_type": "code",
      "source": [
        "# Rename Column\n",
        "# order_df.rename(columns={\"freight_value\": \"shopping_cost\"}, inplace=True)"
      ],
      "metadata": {
        "id": "Y-jBdUrQaUIU"
      },
      "execution_count": null,
      "outputs": []
    }
  ]
}